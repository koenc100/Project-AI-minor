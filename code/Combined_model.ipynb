{
 "cells": [
  {
   "cell_type": "markdown",
   "id": "1e72dcc2",
   "metadata": {},
   "source": [
    "# Combined model\n",
    "\n",
    "In this notebook we will combine the optimized version of the three models we've created. So, the predictions of our k-Nearest Neighbor, Decision tree and Neural Network will be combined to one new prediction. "
   ]
  },
  {
   "cell_type": "code",
   "execution_count": null,
   "id": "1795adf5",
   "metadata": {},
   "outputs": [],
   "source": [
    "# Instal nbimporter to be able to import functions from other notebooks\n",
    "pip install nbimporter"
   ]
  },
  {
   "cell_type": "code",
   "execution_count": 1,
   "id": "1d80b935",
   "metadata": {},
   "outputs": [],
   "source": [
    "from data_processing import prepare_data, split_data, one_hot_encode\n",
    "import numpy as np\n",
    "import pandas as pd\n",
    "import nbimporter\n",
    "from helper_functions import get_metrics\n",
    "\n",
    "# Import functions for k-nearest neighbors\n",
    "from k_Nearest_Neighbors import split_datatypes, train_and_predict\n",
    "from oversampling import smote_loop\n",
    "\n",
    "# Import functions for decision tree\n",
    "from Decision_tree import resampled_forest\n",
    "\n",
    "# Import functions for deep neural networks\n",
    "from deep_neural_network import train_and_predict as train_dNN\n",
    "from deep_neural_network import get_model"
   ]
  },
  {
   "cell_type": "code",
   "execution_count": 16,
   "id": "a9f1e473",
   "metadata": {},
   "outputs": [],
   "source": [
    "# Load the data normalized\n",
    "data = prepare_data('healthcare-dataset-stroke-data.csv', one_hot = False, binary = False, normalize = True)\n",
    "\n",
    "# Split the normalized data into training, testing and validation data\n",
    "train_data, test_data, val_data, train_labels, test_labels, val_labels = split_data(data, (0.6, 0.2, 0.2))\n",
    "\n",
    "# Change the data to one-hot encoded data to be able to train the forest and deep neural network\n",
    "train_hot = one_hot_encode(train_data)\n",
    "test_hot = one_hot_encode(test_data)\n",
    "val_hot = one_hot_encode(val_data)"
   ]
  },
  {
   "cell_type": "markdown",
   "id": "98e5451c",
   "metadata": {},
   "source": [
    "### k-Nearest Neighbors\n",
    "The k-Nearest Neighbors model with the best balanced accuracy was trained on only numeric data that was overfitted with a ratio of 0.6. "
   ]
  },
  {
   "cell_type": "code",
   "execution_count": 45,
   "id": "89e5a97f",
   "metadata": {},
   "outputs": [
    {
     "name": "stdout",
     "output_type": "stream",
     "text": [
      "The accuracy using only k-Nearest Neighbors: \n",
      "accuracy: 84.1487 % \n",
      "\n",
      "balanced accuracy: 68.9012 %\n",
      "sensitivity: 0.5200\n",
      "specificity: 0.8580 \n",
      "\n",
      "confusion matrix: \n",
      "[[834 138]\n",
      " [ 24  26]] \n",
      "\n",
      "[[\"True Negative\", \"False Positive\"] \n",
      " [\"False Negative\", \"True Positive\"]] \n",
      "\n"
     ]
    }
   ],
   "source": [
    "# Split test data into numeric and binary data\n",
    "test_num, test_bin = split_datatypes(test_hot)\n",
    "val_num, val_bin = split_datatypes(val_hot)\n",
    "\n",
    "# Get the oversampled data with a oversampling ratio of 0.6\n",
    "data_list, labels_list, ratio_list = smote_loop(train_data, train_labels, 0.6, 0.7, 0.1)\n",
    "train_num, train_bin = split_datatypes(data_list[0])\n",
    "\n",
    "# Predictions using model trained on numerical, oversampled data and euclidean distance metric and 5 neighbors\n",
    "predict_train_kNN, predict_val_kNN = train_and_predict(train_num, labels_list[0], val_num, 5, \"distance\", \n",
    "                                                          metric='euclidean')\n",
    "predict_train_kNN, predict_test_kNN = train_and_predict(train_num, labels_list[0], test_num, 5, \"distance\", \n",
    "                                                          metric='euclidean')\n",
    "\n",
    "print('The accuracy using only k-Nearest Neighbors: ')\n",
    "get_metrics(test_labels, predict_test_kNN, verbose = True);"
   ]
  },
  {
   "cell_type": "markdown",
   "id": "519d7bd2",
   "metadata": {},
   "source": [
    "### Resampled Forest\n",
    "The optimal number of splits was around 17 most of the time."
   ]
  },
  {
   "cell_type": "code",
   "execution_count": 18,
   "id": "c19cb153",
   "metadata": {},
   "outputs": [
    {
     "name": "stdout",
     "output_type": "stream",
     "text": [
      "The accuracy using only Resampled Forest: \n",
      "accuracy: 73.2877 % \n",
      "\n",
      "balanced accuracy: 73.6255 %\n",
      "sensitivity: 0.7400\n",
      "specificity: 0.7325 \n",
      "\n",
      "confusion matrix: \n",
      "[[712 260]\n",
      " [ 13  37]] \n",
      "\n",
      "[[\"True Negative\", \"False Positive\"] \n",
      " [\"False Negative\", \"True Positive\"]] \n",
      "\n"
     ]
    }
   ],
   "source": [
    "# Create a tuple of the data that gets accepted by the forest function\n",
    "data_DT_val = (train_hot, train_labels, val_hot, val_labels)\n",
    "data_DT_test = (train_hot, train_labels, test_hot, test_labels)\n",
    "\n",
    "# Train the forest on the training data and return a list with predicted labels fror training and testing data\n",
    "predict_train_DT, predict_val_DT = resampled_forest(data_DT_val, 17)\n",
    "predict_train_DT, predict_test_DT = resampled_forest(data_DT_test, 17)\n",
    "\n",
    "print('The accuracy using only Resampled Forest: ')\n",
    "get_metrics(test_labels, predict_test_DT, verbose = True);"
   ]
  },
  {
   "cell_type": "markdown",
   "id": "ac6b304f",
   "metadata": {},
   "source": [
    "### Deep Neural Network"
   ]
  },
  {
   "cell_type": "code",
   "execution_count": 19,
   "id": "5f661722",
   "metadata": {},
   "outputs": [
    {
     "name": "stdout",
     "output_type": "stream",
     "text": [
      "The accuracy using the deep Neural Netwerk: \n",
      "accuracy: 75.8317 % \n",
      "\n",
      "balanced accuracy: 72.1173 %\n",
      "sensitivity: 0.6800\n",
      "specificity: 0.7623 \n",
      "\n",
      "confusion matrix: \n",
      "[[741 231]\n",
      " [ 16  34]] \n",
      "\n",
      "[[\"True Negative\", \"False Positive\"] \n",
      " [\"False Negative\", \"True Positive\"]] \n",
      "\n"
     ]
    }
   ],
   "source": [
    "# Create a Deep Neural Network with two hidden layers \n",
    "model = get_model(train_hot, hidden_layers=2, nodes=[25, 15], dropout_rate=[0.3, 0.3])\n",
    "\n",
    "# Get the predictions for the training and testing data using the Deep Neural Network\n",
    "predict_train_dNN, predict_val_dNN, history = train_dNN(model, train_hot, train_labels, val_hot, val_labels, \n",
    "                                                         class_weight = 15, plot=False, batch_size=None, epochs=50, verbose=0)\n",
    "predict_train_dNN, predict_test_dNN, history = train_dNN(model, train_hot, train_labels, test_hot, test_labels, \n",
    "                                                         class_weight = 15, plot=False, batch_size=None, epochs=50, verbose=0)\n",
    "\n",
    "print('The accuracy using the deep Neural Netwerk: ')\n",
    "get_metrics(test_labels, predict_test_dNN, verbose = True);"
   ]
  },
  {
   "cell_type": "markdown",
   "id": "267b1cb1",
   "metadata": {},
   "source": [
    "# Combining the models\n",
    "The models can be combined in different ways. Considering we started with too few stroke predictions an OR function might be good, with the OR function only one models must return stroke as prediction for the combination of models to return stroke as well. We will try to combine all three models we've created, but we will also combine just the models with the highest predictions: resampled forest and the neural network. "
   ]
  },
  {
   "cell_type": "code",
   "execution_count": 54,
   "id": "337a7a68",
   "metadata": {},
   "outputs": [
    {
     "name": "stdout",
     "output_type": "stream",
     "text": [
      "The accuracy using the combined predictions on validation data: \n",
      "accuracy: 68.0039 % \n",
      "\n",
      "balanced accuracy: 73.6934 %\n",
      "sensitivity: 0.8000\n",
      "specificity: 0.6739 \n",
      "\n",
      "confusion matrix: \n",
      "[[655 317]\n",
      " [ 10  40]] \n",
      "\n",
      "[[\"True Negative\", \"False Positive\"] \n",
      " [\"False Negative\", \"True Positive\"]] \n",
      "\n",
      "The accuracy using the combined predictions on validation data based on majority vote: \n",
      "accuracy: 76.1252 % \n",
      "\n",
      "balanced accuracy: 75.1173 %\n",
      "sensitivity: 0.7400\n",
      "specificity: 0.7623 \n",
      "\n",
      "confusion matrix: \n",
      "[[741 231]\n",
      " [ 13  37]] \n",
      "\n",
      "[[\"True Negative\", \"False Positive\"] \n",
      " [\"False Negative\", \"True Positive\"]] \n",
      "\n"
     ]
    }
   ],
   "source": [
    "# Reshape the predictions of the deep Neural Network from matrices to arrays\n",
    "predict_test_dNN = predict_test_dNN.reshape(1022, )\n",
    "predict_val_dNN = predict_val_dNN.reshape(1022, )\n",
    "predict_train_dNN = predict_train_dNN.reshape(3065,)\n",
    "\n",
    "# Combine the predictions in a way that only one of the models has to return true for the combination to be true\n",
    "predict_combined_val = (predict_val_kNN + predict_val_DT + predict_val_dNN) >= 1\n",
    "predict_combined_test = (predict_test_kNN + predict_test_DT + predict_test_dNN) >= 1\n",
    "\n",
    "# Combine the predictions so at least two models must predict a stroke for the combined model to predict stroke\n",
    "predict_combined_val_2 = (predict_val_kNN + predict_val_DT + predict_val_dNN) >= 2\n",
    "predict_combined_test_2 = (predict_test_kNN + predict_test_DT + predict_test_dNN) >= 2\n",
    "\n",
    "print('The accuracy using the combined predictions on validation data: ')\n",
    "get_metrics(val_labels, predict_combined_val, verbose = True);\n",
    "\n",
    "print('The accuracy using the combined predictions on validation data based on majority vote: ')\n",
    "get_metrics(val_labels, predict_combined_val_2, verbose = True);"
   ]
  },
  {
   "cell_type": "code",
   "execution_count": null,
   "id": "85a2b566",
   "metadata": {},
   "outputs": [],
   "source": [
    "# Use the method of combining the predictions that leads to the highest balanced accuracy on the testing data\n",
    "print('The accuracy using the combined predictions on test data: ')\n",
    "get_metrics(test_labels, predict_combined_test, verbose = True);"
   ]
  },
  {
   "cell_type": "markdown",
   "id": "05ef454e",
   "metadata": {},
   "source": [
    "Here we build a neural network and train it on the predictions of the models."
   ]
  },
  {
   "cell_type": "code",
   "execution_count": 52,
   "id": "ad0dd27a",
   "metadata": {
    "scrolled": false
   },
   "outputs": [
    {
     "data": {
      "image/png": "[encoded data removed]",
      "text/plain": [
       "<Figure size 432x288 with 2 Axes>"
      ]
     },
     "metadata": {
      "needs_background": "light"
     },
     "output_type": "display_data"
    },
    {
     "name": "stdout",
     "output_type": "stream",
     "text": [
      "accuracy: 73.2877 % \n",
      "\n",
      "balanced accuracy: 73.6255 %\n",
      "sensitivity: 0.7400\n",
      "specificity: 0.7325 \n",
      "\n",
      "confusion matrix: \n",
      "[[712 260]\n",
      " [ 13  37]] \n",
      "\n",
      "[[\"True Negative\", \"False Positive\"] \n",
      " [\"False Negative\", \"True Positive\"]] \n",
      "\n"
     ]
    },
    {
     "data": {
      "text/plain": [
       "(0.7328767123287672, 0.7362551440329218)"
      ]
     },
     "execution_count": 52,
     "metadata": {},
     "output_type": "execute_result"
    }
   ],
   "source": [
    "# Create dataframes with the predictions from the models\n",
    "combined_val = pd.DataFrame({'knn': predict_val_kNN, 'DT': predict_val_DT, 'NN': predict_val_dNN})\n",
    "combined_test = pd.DataFrame({'DT': predict_test_DT, 'NN': predict_test_dNN})\n",
    "combined_train = pd.DataFrame({'DT': predict_train_DT, 'NN': predict_train_dNN})\n",
    "\n",
    "# Create a neural network\n",
    "model_combined = get_model(combined_train, hidden_layers=4, nodes=[25, 15, 15, 15], dropout_rate=[0, 0, 0, 0])\n",
    "\n",
    "# Train the neural network on the combined predictions and return the predictions for the train and test data\n",
    "predictions_train, predictions_test, history = train_dNN(model_combined, combined_train, train_labels, combined_test, test_labels,\n",
    "                                                        class_weight = 10, plot=True, batch_size=None,\n",
    "                                                        epochs=50, verbose=0)\n",
    "\n",
    "get_metrics(test_labels, predictions_test, verbose = True)"
   ]
  }
 ],
 "metadata": {
  "kernelspec": {
   "display_name": "Python 3",
   "language": "python",
   "name": "python3"
  },
  "language_info": {
   "codemirror_mode": {
    "name": "ipython",
    "version": 3
   },
   "file_extension": ".py",
   "mimetype": "text/x-python",
   "name": "python",
   "nbconvert_exporter": "python",
   "pygments_lexer": "ipython3",
   "version": "3.7.9"
  }
 },
 "nbformat": 4,
 "nbformat_minor": 5
}
