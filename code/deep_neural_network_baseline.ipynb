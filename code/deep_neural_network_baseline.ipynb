{
 "cells": [
  {
   "cell_type": "markdown",
   "metadata": {},
   "source": [
    "# Deep Neural Network Baseline"
   ]
  },
  {
   "cell_type": "code",
   "execution_count": 1,
   "metadata": {},
   "outputs": [],
   "source": [
    "# Import modules\n",
    "import numpy as np\n",
    "import pandas as pd\n",
    "import matplotlib.pyplot as plt\n",
    "from matplotlib.pyplot import figure\n",
    "\n",
    "from IPython.display import display\n",
    "\n",
    "from data_processing import prepare_data, split_data\n",
    "from helper_functions import get_metrics\n",
    "\n",
    "import tensorflow as tf\n",
    "from tensorflow.keras import layers, models, preprocessing, Input"
   ]
  },
  {
   "cell_type": "code",
   "execution_count": 2,
   "metadata": {},
   "outputs": [],
   "source": [
    "# Get the data and clean it\n",
    "data = prepare_data('healthcare-dataset-stroke-data.csv')\n",
    "\n",
    "# Split the data into test, training and validation data\n",
    "train_data, test_data, val_data, train_labels, test_labels, val_labels = split_data(data, split_size=(0.6, 0.2, 0.2))"
   ]
  },
  {
   "cell_type": "code",
   "execution_count": 5,
   "metadata": {
    "scrolled": false
   },
   "outputs": [
    {
     "name": "stdout",
     "output_type": "stream",
     "text": [
      "Train on 2944 samples, validate on 982 samples\n",
      "Epoch 1/30\n",
      "2944/2944 [==============================] - 0s 131us/sample - loss: 2.3284 - accuracy: 0.7164 - val_loss: 0.2359 - val_accuracy: 0.9450\n",
      "Epoch 2/30\n",
      "2944/2944 [==============================] - 0s 25us/sample - loss: 0.1901 - accuracy: 0.9507 - val_loss: 0.2266 - val_accuracy: 0.9450\n",
      "Epoch 3/30\n",
      "2944/2944 [==============================] - 0s 25us/sample - loss: 0.1797 - accuracy: 0.9514 - val_loss: 0.2301 - val_accuracy: 0.9470\n",
      "Epoch 4/30\n",
      "2944/2944 [==============================] - 0s 26us/sample - loss: 0.1758 - accuracy: 0.9572 - val_loss: 0.2118 - val_accuracy: 0.9470\n",
      "Epoch 5/30\n",
      "2944/2944 [==============================] - 0s 24us/sample - loss: 0.1752 - accuracy: 0.9555 - val_loss: 0.2212 - val_accuracy: 0.9470\n",
      "Epoch 6/30\n",
      "2944/2944 [==============================] - 0s 24us/sample - loss: 0.1717 - accuracy: 0.9558 - val_loss: 0.2069 - val_accuracy: 0.9470\n",
      "Epoch 7/30\n",
      "2944/2944 [==============================] - 0s 27us/sample - loss: 0.1739 - accuracy: 0.9569 - val_loss: 0.1975 - val_accuracy: 0.9420\n",
      "Epoch 8/30\n",
      "2944/2944 [==============================] - 0s 25us/sample - loss: 0.1688 - accuracy: 0.9562 - val_loss: 0.1969 - val_accuracy: 0.9409\n",
      "Epoch 9/30\n",
      "2944/2944 [==============================] - 0s 25us/sample - loss: 0.1680 - accuracy: 0.9569 - val_loss: 0.1957 - val_accuracy: 0.9450\n",
      "Epoch 10/30\n",
      "2944/2944 [==============================] - 0s 25us/sample - loss: 0.1668 - accuracy: 0.9548 - val_loss: 0.2265 - val_accuracy: 0.9481\n",
      "Epoch 11/30\n",
      "2944/2944 [==============================] - 0s 24us/sample - loss: 0.1666 - accuracy: 0.9538 - val_loss: 0.2060 - val_accuracy: 0.9470\n",
      "Epoch 12/30\n",
      "2944/2944 [==============================] - 0s 25us/sample - loss: 0.1643 - accuracy: 0.9558 - val_loss: 0.1933 - val_accuracy: 0.9460\n",
      "Epoch 13/30\n",
      "2944/2944 [==============================] - 0s 25us/sample - loss: 0.1660 - accuracy: 0.9558 - val_loss: 0.1902 - val_accuracy: 0.9440\n",
      "Epoch 14/30\n",
      "2944/2944 [==============================] - 0s 24us/sample - loss: 0.1626 - accuracy: 0.9575 - val_loss: 0.2226 - val_accuracy: 0.9470\n",
      "Epoch 15/30\n",
      "2944/2944 [==============================] - 0s 25us/sample - loss: 0.1657 - accuracy: 0.9538 - val_loss: 0.2003 - val_accuracy: 0.9470\n",
      "Epoch 16/30\n",
      "2944/2944 [==============================] - 0s 24us/sample - loss: 0.1615 - accuracy: 0.9562 - val_loss: 0.2045 - val_accuracy: 0.9470\n",
      "Epoch 17/30\n",
      "2944/2944 [==============================] - 0s 24us/sample - loss: 0.1642 - accuracy: 0.9548 - val_loss: 0.1993 - val_accuracy: 0.9470\n",
      "Epoch 18/30\n",
      "2944/2944 [==============================] - 0s 25us/sample - loss: 0.1598 - accuracy: 0.9555 - val_loss: 0.2096 - val_accuracy: 0.9308\n",
      "Epoch 19/30\n",
      "2944/2944 [==============================] - 0s 25us/sample - loss: 0.1639 - accuracy: 0.9538 - val_loss: 0.1874 - val_accuracy: 0.9470\n",
      "Epoch 20/30\n",
      "2944/2944 [==============================] - 0s 24us/sample - loss: 0.1584 - accuracy: 0.9565 - val_loss: 0.2105 - val_accuracy: 0.9470\n",
      "Epoch 21/30\n",
      "2944/2944 [==============================] - 0s 26us/sample - loss: 0.1607 - accuracy: 0.9552 - val_loss: 0.1940 - val_accuracy: 0.9470\n",
      "Epoch 22/30\n",
      "2944/2944 [==============================] - 0s 25us/sample - loss: 0.1602 - accuracy: 0.9579 - val_loss: 0.1898 - val_accuracy: 0.9460\n",
      "Epoch 23/30\n",
      "2944/2944 [==============================] - 0s 25us/sample - loss: 0.1600 - accuracy: 0.9558 - val_loss: 0.1897 - val_accuracy: 0.9470\n",
      "Epoch 24/30\n",
      "2944/2944 [==============================] - 0s 26us/sample - loss: 0.1602 - accuracy: 0.9548 - val_loss: 0.1921 - val_accuracy: 0.9470\n",
      "Epoch 25/30\n",
      "2944/2944 [==============================] - 0s 25us/sample - loss: 0.1583 - accuracy: 0.9579 - val_loss: 0.2083 - val_accuracy: 0.9481\n",
      "Epoch 26/30\n",
      "2944/2944 [==============================] - 0s 24us/sample - loss: 0.1571 - accuracy: 0.9545 - val_loss: 0.2221 - val_accuracy: 0.9481\n",
      "Epoch 27/30\n",
      "2944/2944 [==============================] - 0s 25us/sample - loss: 0.1578 - accuracy: 0.9565 - val_loss: 0.1884 - val_accuracy: 0.9470\n",
      "Epoch 28/30\n",
      "2944/2944 [==============================] - 0s 25us/sample - loss: 0.1591 - accuracy: 0.9555 - val_loss: 0.1883 - val_accuracy: 0.9399\n",
      "Epoch 29/30\n",
      "2944/2944 [==============================] - 0s 24us/sample - loss: 0.1571 - accuracy: 0.9555 - val_loss: 0.2025 - val_accuracy: 0.9481\n",
      "Epoch 30/30\n",
      "2944/2944 [==============================] - 0s 26us/sample - loss: 0.1551 - accuracy: 0.9558 - val_loss: 0.1904 - val_accuracy: 0.9430\n"
     ]
    },
    {
     "data": {
      "image/png": "[encoded data removed]",
      "text/plain": [
       "<Figure size 432x288 with 1 Axes>"
      ]
     },
     "metadata": {
      "needs_background": "light"
     },
     "output_type": "display_data"
    },
    {
     "name": "stdout",
     "output_type": "stream",
     "text": [
      "train metrics: \n",
      "\n",
      "accuracy: 95.5163 % \n",
      "\n",
      "balanced accuracy: 51.7834 % \n",
      "\n",
      "confusion matrix: \n",
      "[[2807   15]\n",
      " [ 117    5]] \n",
      "\n",
      "[[\"True Negative\", \"False Positive\"] \n",
      " [\"False Negative\", \"True Positive\"]] \n",
      "\n",
      "test metrics: \n",
      "\n",
      "accuracy: 94.2974 % \n",
      "\n",
      "balanced accuracy: 52.5115 % \n",
      "\n",
      "confusion matrix: \n",
      "[[923   8]\n",
      " [ 48   3]] \n",
      "\n",
      "[[\"True Negative\", \"False Positive\"] \n",
      " [\"False Negative\", \"True Positive\"]] \n",
      "\n"
     ]
    }
   ],
   "source": [
    "def train_and_predict(model, training_data, training_labels, testing_data, testing_labels, epochs=5):\n",
    "    \"\"\"\n",
    "    This function trains a given neural network model based on training data and training labels. It then predicts classes on\n",
    "    training and testing data. It is possible to adjust for how many epochs the model is trained\n",
    "    \"\"\"\n",
    "    # Compile the layers of the model defined earlier. Use the binary cross entropy function as the loss function as we only\n",
    "    # have 2 output classes and use accuracy as the metric\n",
    "    model.compile(loss='binary_crossentropy', metrics=['accuracy'])\n",
    "    \n",
    "    # Train the model for a number of epochs\n",
    "    history = model.fit(training_data, training_labels, epochs=epochs, validation_data=(testing_data, testing_labels))\n",
    "\n",
    "    # Predict the classes of the training data\n",
    "    predictions_train = model.predict(training_data) >= 0.5\n",
    "    \n",
    "    # Predict the classes on the testing data\n",
    "    predictions_test = model.predict(testing_data) >= 0.5\n",
    "    \n",
    "    # Plot the accuracy over epochs\n",
    "    plt.plot(history.history['accuracy'])\n",
    "    plt.plot(history.history['val_accuracy'])\n",
    "    plt.title('model accuracy')\n",
    "    plt.ylabel('accuracy')\n",
    "    plt.xlabel('epoch')\n",
    "    plt.legend(['train', 'test'], loc='upper left')\n",
    "\n",
    "    plt.show()\n",
    "\n",
    "    return predictions_train, predictions_test\n",
    "\n",
    "# Get the amount of input features for the nodes in the first layer\n",
    "input_shape = np.shape(train_data)[1]\n",
    "\n",
    "# Create the model\n",
    "model = models.Sequential()\n",
    "\n",
    "# First layer with input nodes equal to features\n",
    "model.add(Input(shape=(input_shape)))\n",
    "\n",
    "# One hidden layer with 25 nodes\n",
    "model.add(layers.Dense(25, activation='relu'))\n",
    "\n",
    "# Output layer with 1 node (only 1 output class, 0 or 1 for stroke) and sigmoid activation function\n",
    "model.add(layers.Dense(1, 'sigmoid'))\n",
    "\n",
    "# Train and predict\n",
    "predictions_train, predictions_test = train_and_predict(model, train_data, \n",
    "                                                        train_labels, test_data, test_labels,\n",
    "                                                        epochs=30)\n",
    "\n",
    "# Print metrics\n",
    "print('train metrics: \\n')\n",
    "accuracy_train, balanced_accuracy_train = get_metrics(train_labels, predictions_train, verbose=True)\n",
    "\n",
    "print('test metrics: \\n')\n",
    "accuracy_test, balanced_accuracy_test = get_metrics(test_labels, predictions_test, verbose=True)\n",
    "\n"
   ]
  },
  {
   "cell_type": "code",
   "execution_count": null,
   "metadata": {},
   "outputs": [],
   "source": []
  }
 ],
 "metadata": {
  "kernelspec": {
   "display_name": "Python 3",
   "language": "python",
   "name": "python3"
  },
  "language_info": {
   "codemirror_mode": {
    "name": "ipython",
    "version": 3
   },
   "file_extension": ".py",
   "mimetype": "text/x-python",
   "name": "python",
   "nbconvert_exporter": "python",
   "pygments_lexer": "ipython3",
   "version": "3.7.10"
  }
 },
 "nbformat": 4,
 "nbformat_minor": 4
}
