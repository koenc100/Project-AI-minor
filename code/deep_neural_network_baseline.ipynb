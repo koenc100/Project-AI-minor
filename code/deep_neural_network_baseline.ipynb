{
 "cells": [
  {
   "cell_type": "markdown",
   "metadata": {},
   "source": [
    "# Deep Neural Network Baseline"
   ]
  },
  {
   "cell_type": "code",
   "execution_count": 4,
   "metadata": {},
   "outputs": [],
   "source": [
    "# Import modules\n",
    "import numpy as np\n",
    "import pandas as pd\n",
    "import matplotlib.pyplot as plt\n",
    "from matplotlib.pyplot import figure\n",
    "\n",
    "from IPython.display import display\n",
    "\n",
    "from data_processing import prepare_data, split_data\n",
    "from helper_functions import get_metrics\n",
    "\n",
    "import tensorflow as tf\n",
    "from tensorflow.keras import layers, models, preprocessing, Input"
   ]
  },
  {
   "cell_type": "code",
   "execution_count": 5,
   "metadata": {},
   "outputs": [],
   "source": [
    "# Get the data and clean it\n",
    "data = prepare_data('healthcare-dataset-stroke-data.csv')\n",
    "\n",
    "# Split the data into test, training and validation data\n",
    "train_data, test_data, val_data, train_labels, test_labels, val_labels = split_data(data, split_size=(0.6, 0.2, 0.2))"
   ]
  },
  {
   "cell_type": "code",
   "execution_count": 6,
   "metadata": {
    "scrolled": false
   },
   "outputs": [
    {
     "name": "stdout",
     "output_type": "stream",
     "text": [
      "Train on 3065 samples, validate on 1022 samples\n",
      "Epoch 1/30\n",
      "3065/3065 [==============================] - 1s 364us/sample - loss: 0.4306 - accuracy: 0.9289 - val_loss: 0.2763 - val_accuracy: 0.9511\n",
      "Epoch 2/30\n",
      "3065/3065 [==============================] - 0s 82us/sample - loss: 0.2197 - accuracy: 0.9514 - val_loss: 0.1930 - val_accuracy: 0.9511\n",
      "Epoch 3/30\n",
      "3065/3065 [==============================] - 0s 78us/sample - loss: 0.1797 - accuracy: 0.9514 - val_loss: 0.1781 - val_accuracy: 0.9511\n",
      "Epoch 4/30\n",
      "3065/3065 [==============================] - 0s 69us/sample - loss: 0.1684 - accuracy: 0.9514 - val_loss: 0.1714 - val_accuracy: 0.9511\n",
      "Epoch 5/30\n",
      "3065/3065 [==============================] - 0s 57us/sample - loss: 0.1626 - accuracy: 0.9514 - val_loss: 0.1682 - val_accuracy: 0.9511\n",
      "Epoch 6/30\n",
      "3065/3065 [==============================] - 0s 58us/sample - loss: 0.1592 - accuracy: 0.9514 - val_loss: 0.1652 - val_accuracy: 0.9511\n",
      "Epoch 7/30\n",
      "3065/3065 [==============================] - 0s 57us/sample - loss: 0.1572 - accuracy: 0.9514 - val_loss: 0.1640 - val_accuracy: 0.9511\n",
      "Epoch 8/30\n",
      "3065/3065 [==============================] - 0s 60us/sample - loss: 0.1558 - accuracy: 0.9514 - val_loss: 0.1634 - val_accuracy: 0.9511\n",
      "Epoch 9/30\n",
      "3065/3065 [==============================] - 0s 55us/sample - loss: 0.1545 - accuracy: 0.9514 - val_loss: 0.1638 - val_accuracy: 0.9511\n",
      "Epoch 10/30\n",
      "3065/3065 [==============================] - 0s 56us/sample - loss: 0.1540 - accuracy: 0.9514 - val_loss: 0.1624 - val_accuracy: 0.9511\n",
      "Epoch 11/30\n",
      "3065/3065 [==============================] - 0s 57us/sample - loss: 0.1532 - accuracy: 0.9517 - val_loss: 0.1620 - val_accuracy: 0.9511\n",
      "Epoch 12/30\n",
      "3065/3065 [==============================] - 0s 57us/sample - loss: 0.1527 - accuracy: 0.9517 - val_loss: 0.1622 - val_accuracy: 0.9511\n",
      "Epoch 13/30\n",
      "3065/3065 [==============================] - 0s 55us/sample - loss: 0.1524 - accuracy: 0.9517 - val_loss: 0.1621 - val_accuracy: 0.9511\n",
      "Epoch 14/30\n",
      "3065/3065 [==============================] - 0s 58us/sample - loss: 0.1516 - accuracy: 0.9514 - val_loss: 0.1615 - val_accuracy: 0.9511\n",
      "Epoch 15/30\n",
      "3065/3065 [==============================] - 0s 55us/sample - loss: 0.1512 - accuracy: 0.9517 - val_loss: 0.1622 - val_accuracy: 0.9511\n",
      "Epoch 16/30\n",
      "3065/3065 [==============================] - 0s 59us/sample - loss: 0.1511 - accuracy: 0.9514 - val_loss: 0.1618 - val_accuracy: 0.9511\n",
      "Epoch 17/30\n",
      "3065/3065 [==============================] - 0s 57us/sample - loss: 0.1509 - accuracy: 0.9514 - val_loss: 0.1615 - val_accuracy: 0.9511\n",
      "Epoch 18/30\n",
      "3065/3065 [==============================] - 0s 57us/sample - loss: 0.1504 - accuracy: 0.9517 - val_loss: 0.1613 - val_accuracy: 0.9511\n",
      "Epoch 19/30\n",
      "3065/3065 [==============================] - 0s 56us/sample - loss: 0.1497 - accuracy: 0.9517 - val_loss: 0.1630 - val_accuracy: 0.9511\n",
      "Epoch 20/30\n",
      "3065/3065 [==============================] - 0s 57us/sample - loss: 0.1499 - accuracy: 0.9517 - val_loss: 0.1612 - val_accuracy: 0.9511\n",
      "Epoch 21/30\n",
      "3065/3065 [==============================] - 0s 57us/sample - loss: 0.1497 - accuracy: 0.9517 - val_loss: 0.1614 - val_accuracy: 0.9511\n",
      "Epoch 22/30\n",
      "3065/3065 [==============================] - 0s 57us/sample - loss: 0.1493 - accuracy: 0.9517 - val_loss: 0.1609 - val_accuracy: 0.9511\n",
      "Epoch 23/30\n",
      "3065/3065 [==============================] - 0s 58us/sample - loss: 0.1491 - accuracy: 0.9517 - val_loss: 0.1609 - val_accuracy: 0.9511\n",
      "Epoch 24/30\n",
      "3065/3065 [==============================] - 0s 58us/sample - loss: 0.1489 - accuracy: 0.9517 - val_loss: 0.1616 - val_accuracy: 0.9511\n",
      "Epoch 25/30\n",
      "3065/3065 [==============================] - 0s 57us/sample - loss: 0.1484 - accuracy: 0.9517 - val_loss: 0.1622 - val_accuracy: 0.9511\n",
      "Epoch 26/30\n",
      "3065/3065 [==============================] - 0s 55us/sample - loss: 0.1486 - accuracy: 0.9514 - val_loss: 0.1618 - val_accuracy: 0.9511\n",
      "Epoch 27/30\n",
      "3065/3065 [==============================] - 0s 55us/sample - loss: 0.1483 - accuracy: 0.9511 - val_loss: 0.1611 - val_accuracy: 0.9511\n",
      "Epoch 28/30\n",
      "3065/3065 [==============================] - 0s 58us/sample - loss: 0.1480 - accuracy: 0.9517 - val_loss: 0.1611 - val_accuracy: 0.9511\n",
      "Epoch 29/30\n",
      "3065/3065 [==============================] - 0s 56us/sample - loss: 0.1478 - accuracy: 0.9514 - val_loss: 0.1615 - val_accuracy: 0.9511\n",
      "Epoch 30/30\n",
      "3065/3065 [==============================] - 0s 60us/sample - loss: 0.1473 - accuracy: 0.9517 - val_loss: 0.1625 - val_accuracy: 0.9511\n"
     ]
    },
    {
     "data": {
      "image/png": "[encoded data removed]",
      "text/plain": [
       "<Figure size 432x288 with 1 Axes>"
      ]
     },
     "metadata": {
      "needs_background": "light"
     },
     "output_type": "display_data"
    },
    {
     "name": "stdout",
     "output_type": "stream",
     "text": [
      "train metrics: \n",
      "\n",
      "accuracy: 95.1713 % \n",
      "\n",
      "balanced accuracy: 50.3356 %\n",
      "sensitivity: 0.0067\n",
      "specificity: 1.0000 \n",
      "\n",
      "confusion matrix: \n",
      "[[2916    0]\n",
      " [ 148    1]] \n",
      "\n",
      "[[\"True Negative\", \"False Positive\"] \n",
      " [\"False Negative\", \"True Positive\"]] \n",
      "\n",
      "test metrics: \n",
      "\n",
      "accuracy: 95.1076 % \n",
      "\n",
      "balanced accuracy: 50.0000 %\n",
      "sensitivity: 0.0000\n",
      "specificity: 1.0000 \n",
      "\n",
      "confusion matrix: \n",
      "[[972   0]\n",
      " [ 50   0]] \n",
      "\n",
      "[[\"True Negative\", \"False Positive\"] \n",
      " [\"False Negative\", \"True Positive\"]] \n",
      "\n"
     ]
    }
   ],
   "source": [
    "def train_and_predict(model, training_data, training_labels, testing_data, testing_labels, epochs=5):\n",
    "    \"\"\"\n",
    "    This function trains a given neural network model based on training data and training labels. It then predicts classes on\n",
    "    training and testing data. It is possible to adjust for how many epochs the model is trained\n",
    "    \"\"\"\n",
    "    # Compile the layers of the model defined earlier. Use the binary cross entropy function as the loss function as we only\n",
    "    # have 2 output classes and use accuracy as the metric\n",
    "    model.compile(loss='binary_crossentropy', metrics=['accuracy'])\n",
    "    \n",
    "    # Train the model for a number of epochs\n",
    "    history = model.fit(training_data, training_labels, epochs=epochs, validation_data=(testing_data, testing_labels))\n",
    "\n",
    "    # Predict the classes of the training data\n",
    "    predictions_train = model.predict(training_data) >= 0.5\n",
    "    \n",
    "    # Predict the classes on the testing data\n",
    "    predictions_test = model.predict(testing_data) >= 0.5\n",
    "    \n",
    "    # Plot the accuracy over epochs\n",
    "    plt.plot(history.history['accuracy'])\n",
    "    plt.plot(history.history['val_accuracy'])\n",
    "    plt.title('model accuracy')\n",
    "    plt.ylabel('accuracy')\n",
    "    plt.xlabel('epoch')\n",
    "    plt.legend(['train', 'test'], loc='upper left')\n",
    "\n",
    "    plt.show()\n",
    "\n",
    "    return predictions_train, predictions_test\n",
    "\n",
    "# Get the amount of input features for the nodes in the first layer\n",
    "input_shape = np.shape(train_data)[1]\n",
    "\n",
    "# Create the model\n",
    "model = models.Sequential()\n",
    "\n",
    "# First layer with input nodes equal to features\n",
    "model.add(Input(shape=(input_shape)))\n",
    "\n",
    "# One hidden layer with 25 nodes\n",
    "model.add(layers.Dense(25, activation='relu'))\n",
    "\n",
    "# Output layer with 1 node (only 1 output class, 0 or 1 for stroke) and sigmoid activation function\n",
    "model.add(layers.Dense(1, 'sigmoid'))\n",
    "\n",
    "# Train and predict\n",
    "predictions_train, predictions_test = train_and_predict(model, train_data, \n",
    "                                                        train_labels, test_data, test_labels,\n",
    "                                                        epochs=30)\n",
    "\n",
    "# Print metrics\n",
    "print('train metrics: \\n')\n",
    "accuracy_train, balanced_accuracy_train = get_metrics(train_labels, predictions_train, verbose=True)\n",
    "\n",
    "print('test metrics: \\n')\n",
    "accuracy_test, balanced_accuracy_test = get_metrics(test_labels, predictions_test, verbose=True)\n",
    "\n"
   ]
  },
  {
   "cell_type": "code",
   "execution_count": null,
   "metadata": {},
   "outputs": [],
   "source": []
  }
 ],
 "metadata": {
  "kernelspec": {
   "display_name": "Python 3",
   "language": "python",
   "name": "python3"
  },
  "language_info": {
   "codemirror_mode": {
    "name": "ipython",
    "version": 3
   },
   "file_extension": ".py",
   "mimetype": "text/x-python",
   "name": "python",
   "nbconvert_exporter": "python",
   "pygments_lexer": "ipython3",
   "version": "3.7.9"
  }
 },
 "nbformat": 4,
 "nbformat_minor": 4
}
