{
 "cells": [
  {
   "cell_type": "markdown",
   "metadata": {},
   "source": [
    "# Deep Neural Network"
   ]
  },
  {
   "cell_type": "code",
   "execution_count": 2,
   "metadata": {},
   "outputs": [],
   "source": [
    "# Import modules\n",
    "import numpy as np\n",
    "import pandas as pd\n",
    "import matplotlib.pyplot as plt\n",
    "from matplotlib.pyplot import figure\n",
    "\n",
    "from IPython.display import display\n",
    "\n",
    "from data_processing import prepare_data, split_data\n",
    "from helper_functions import get_metrics\n",
    "\n",
    "import tensorflow as tf\n",
    "from tensorflow.keras import layers, models, preprocessing, Input, metrics\n",
    "from tensorflow.keras.metrics import FalsePositives, TruePositives, FalseNegatives, TrueNegatives"
   ]
  },
  {
   "cell_type": "code",
   "execution_count": 3,
   "metadata": {},
   "outputs": [
    {
     "name": "stdout",
     "output_type": "stream",
     "text": [
      "5110\n",
      "4909\n"
     ]
    }
   ],
   "source": [
    "# Get the data and clean it\n",
    "data = prepare_data('healthcare-dataset-stroke-data.csv')\n",
    "\n",
    "# Split the data into test, training and validation data\n",
    "train_data, test_data, val_data, train_labels, test_labels, val_labels = split_data(data, split_size=(0.6, 0.2, 0.2))"
   ]
  },
  {
   "cell_type": "markdown",
   "metadata": {},
   "source": [
    "### Milestone 1: Basic model"
   ]
  },
  {
   "cell_type": "code",
   "execution_count": 4,
   "metadata": {},
   "outputs": [
    {
     "name": "stdout",
     "output_type": "stream",
     "text": [
      "Train on 2944 samples, validate on 982 samples\n",
      "Epoch 1/30\n",
      "2944/2944 [==============================] - 0s 157us/sample - loss: 34.5406 - accuracy: 0.0948 - val_loss: 2.7826 - val_accuracy: 0.5652\n",
      "Epoch 2/30\n",
      "2944/2944 [==============================] - 0s 33us/sample - loss: 0.8018 - accuracy: 0.8655 - val_loss: 0.4381 - val_accuracy: 0.9358\n",
      "Epoch 3/30\n",
      "2944/2944 [==============================] - 0s 30us/sample - loss: 0.2353 - accuracy: 0.9484 - val_loss: 0.2277 - val_accuracy: 0.9460\n",
      "Epoch 4/30\n",
      "2944/2944 [==============================] - 0s 31us/sample - loss: 0.1896 - accuracy: 0.9507 - val_loss: 0.2052 - val_accuracy: 0.9470\n",
      "Epoch 5/30\n",
      "2944/2944 [==============================] - 0s 31us/sample - loss: 0.1884 - accuracy: 0.9518 - val_loss: 0.1996 - val_accuracy: 0.9409\n",
      "Epoch 6/30\n",
      "2944/2944 [==============================] - 0s 34us/sample - loss: 0.1794 - accuracy: 0.9511 - val_loss: 0.1938 - val_accuracy: 0.9470\n",
      "Epoch 7/30\n",
      "2944/2944 [==============================] - 0s 33us/sample - loss: 0.1773 - accuracy: 0.9548 - val_loss: 0.1925 - val_accuracy: 0.9470\n",
      "Epoch 8/30\n",
      "2944/2944 [==============================] - 0s 33us/sample - loss: 0.1711 - accuracy: 0.9558 - val_loss: 0.1977 - val_accuracy: 0.9481\n",
      "Epoch 9/30\n",
      "2944/2944 [==============================] - 0s 33us/sample - loss: 0.1703 - accuracy: 0.9575 - val_loss: 0.2165 - val_accuracy: 0.9481\n",
      "Epoch 10/30\n",
      "2944/2944 [==============================] - 0s 34us/sample - loss: 0.1700 - accuracy: 0.9558 - val_loss: 0.1897 - val_accuracy: 0.9481\n",
      "Epoch 11/30\n",
      "2944/2944 [==============================] - 0s 31us/sample - loss: 0.1704 - accuracy: 0.9565 - val_loss: 0.1939 - val_accuracy: 0.9481\n",
      "Epoch 12/30\n",
      "2944/2944 [==============================] - 0s 32us/sample - loss: 0.1664 - accuracy: 0.9548 - val_loss: 0.2207 - val_accuracy: 0.9481\n",
      "Epoch 13/30\n",
      "2944/2944 [==============================] - ETA: 0s - loss: 0.1645 - accuracy: 0.95 - 0s 33us/sample - loss: 0.1663 - accuracy: 0.9548 - val_loss: 0.1907 - val_accuracy: 0.9481\n",
      "Epoch 14/30\n",
      "2944/2944 [==============================] - 0s 36us/sample - loss: 0.1662 - accuracy: 0.9538 - val_loss: 0.1968 - val_accuracy: 0.9481\n",
      "Epoch 15/30\n",
      "2944/2944 [==============================] - 0s 31us/sample - loss: 0.1702 - accuracy: 0.9558 - val_loss: 0.1884 - val_accuracy: 0.9481\n",
      "Epoch 16/30\n",
      "2944/2944 [==============================] - 0s 32us/sample - loss: 0.1640 - accuracy: 0.9562 - val_loss: 0.1984 - val_accuracy: 0.9430\n",
      "Epoch 17/30\n",
      "2944/2944 [==============================] - 0s 35us/sample - loss: 0.1655 - accuracy: 0.9538 - val_loss: 0.1864 - val_accuracy: 0.9481\n",
      "Epoch 18/30\n",
      "2944/2944 [==============================] - 0s 33us/sample - loss: 0.1684 - accuracy: 0.9558 - val_loss: 0.2313 - val_accuracy: 0.9481\n",
      "Epoch 19/30\n",
      "2944/2944 [==============================] - 0s 32us/sample - loss: 0.1631 - accuracy: 0.9535 - val_loss: 0.1888 - val_accuracy: 0.9481\n",
      "Epoch 20/30\n",
      "2944/2944 [==============================] - 0s 34us/sample - loss: 0.1627 - accuracy: 0.9558 - val_loss: 0.1846 - val_accuracy: 0.9481\n",
      "Epoch 21/30\n",
      "2944/2944 [==============================] - 0s 33us/sample - loss: 0.1634 - accuracy: 0.9558 - val_loss: 0.2364 - val_accuracy: 0.9481\n",
      "Epoch 22/30\n",
      "2944/2944 [==============================] - 0s 32us/sample - loss: 0.1658 - accuracy: 0.9548 - val_loss: 0.1837 - val_accuracy: 0.9481\n",
      "Epoch 23/30\n",
      "2944/2944 [==============================] - 0s 31us/sample - loss: 0.1660 - accuracy: 0.9562 - val_loss: 0.2044 - val_accuracy: 0.9481\n",
      "Epoch 24/30\n",
      "2944/2944 [==============================] - 0s 34us/sample - loss: 0.1642 - accuracy: 0.9545 - val_loss: 0.1989 - val_accuracy: 0.9481\n",
      "Epoch 25/30\n",
      "2944/2944 [==============================] - 0s 32us/sample - loss: 0.1632 - accuracy: 0.9562 - val_loss: 0.1898 - val_accuracy: 0.9481\n",
      "Epoch 26/30\n",
      "2944/2944 [==============================] - 0s 32us/sample - loss: 0.1652 - accuracy: 0.9558 - val_loss: 0.1844 - val_accuracy: 0.9481\n",
      "Epoch 27/30\n",
      "2944/2944 [==============================] - 0s 31us/sample - loss: 0.1604 - accuracy: 0.9552 - val_loss: 0.1836 - val_accuracy: 0.9481\n",
      "Epoch 28/30\n",
      "2944/2944 [==============================] - 0s 31us/sample - loss: 0.1617 - accuracy: 0.9548 - val_loss: 0.1927 - val_accuracy: 0.9481\n",
      "Epoch 29/30\n",
      "2944/2944 [==============================] - 0s 31us/sample - loss: 0.1654 - accuracy: 0.9562 - val_loss: 0.1897 - val_accuracy: 0.9440\n",
      "Epoch 30/30\n",
      "2944/2944 [==============================] - 0s 31us/sample - loss: 0.1623 - accuracy: 0.9565 - val_loss: 0.2029 - val_accuracy: 0.9481\n"
     ]
    },
    {
     "data": {
      "image/png": "[encoded data removed]",
      "text/plain": [
       "<Figure size 432x288 with 1 Axes>"
      ]
     },
     "metadata": {
      "needs_background": "light"
     },
     "output_type": "display_data"
    },
    {
     "name": "stdout",
     "output_type": "stream",
     "text": [
      "train metrics: \n",
      "\n",
      "accuracy: 95.8560 % \n",
      "\n",
      "balanced accuracy: 50.0000 % \n",
      "\n",
      "confusion matrix: \n",
      "[[2822    0]\n",
      " [ 122    0]] \n",
      "\n",
      "[[\"True Negative\", \"False Positive\"] \n",
      " [\"False Negative\", \"True Positive\"]] \n",
      "\n",
      "test metrics: \n",
      "\n",
      "accuracy: 94.8065 % \n",
      "\n",
      "balanced accuracy: 50.0000 % \n",
      "\n",
      "confusion matrix: \n",
      "[[931   0]\n",
      " [ 51   0]] \n",
      "\n",
      "[[\"True Negative\", \"False Positive\"] \n",
      " [\"False Negative\", \"True Positive\"]] \n",
      "\n"
     ]
    }
   ],
   "source": [
    "def train_and_predict(model, training_data, training_labels, testing_data, testing_labels, epochs=5):\n",
    "    \"\"\"\n",
    "    This function trains a given neural network model based on training data and training labels. It then predicts classes on\n",
    "    training and testing data. It is possible to adjust for how many epochs the model is trained\n",
    "    \"\"\"\n",
    "    # Compile the layers of the model defined earlier. Use the binary cross entropy function as the loss function as we only\n",
    "    # have 2 output classes and use accuracy as the metric\n",
    "    model.compile(loss='binary_crossentropy', metrics=['accuracy'])\n",
    "    \n",
    "    # Train the model for a number of epochs\n",
    "    history = model.fit(training_data, training_labels, epochs=epochs, validation_data=(testing_data, testing_labels))\n",
    "\n",
    "    # Predict the classes of the training data\n",
    "    predictions_train = model.predict(training_data) >= 0.5\n",
    "    \n",
    "    # Predict the classes on the testing data\n",
    "    predictions_test = model.predict(testing_data) >= 0.5\n",
    "    \n",
    "    # Plot the accuracy over epochs\n",
    "    plt.plot(history.history['accuracy'])\n",
    "    plt.plot(history.history['val_accuracy'])\n",
    "    plt.title('model accuracy')\n",
    "    plt.ylabel('accuracy')\n",
    "    plt.xlabel('epoch')\n",
    "    plt.legend(['train', 'test'], loc='upper left')\n",
    "\n",
    "    plt.show()\n",
    "\n",
    "    return predictions_train, predictions_test\n",
    "\n",
    "# Get the amount of input features for the nodes in the first layer\n",
    "input_shape = np.shape(train_data)[1]\n",
    "\n",
    "# Create the model\n",
    "model = models.Sequential()\n",
    "\n",
    "# First layer with input nodes equal to features\n",
    "model.add(Input(shape=(input_shape)))\n",
    "\n",
    "# One hidden layer with 25 nodes\n",
    "model.add(layers.Dense(25, activation='relu'))\n",
    "\n",
    "# Output layer with 1 node (only 1 output class, 0 or 1 for stroke) and sigmoid activation function\n",
    "model.add(layers.Dense(1, 'sigmoid'))\n",
    "\n",
    "# Train and predict\n",
    "predictions_train, predictions_test = train_and_predict(model, train_data, \n",
    "                                                        train_labels, test_data, test_labels,\n",
    "                                                        epochs=30)\n",
    "\n",
    "# Print metrics\n",
    "print('train metrics: \\n')\n",
    "accuracy_train, balanced_accuracy_train = get_metrics(train_labels, predictions_train, verbose=True)\n",
    "\n",
    "print('test metrics: \\n')\n",
    "accuracy_test, balanced_accuracy_test = get_metrics(test_labels, predictions_test, verbose=True)\n",
    "\n"
   ]
  },
  {
   "cell_type": "markdown",
   "metadata": {},
   "source": [
    "### Milestone 2: Actual model\n",
    "##### Additions:\n",
    "1. Weighted loss to increase sensitivity to stroke cases."
   ]
  },
  {
   "cell_type": "code",
   "execution_count": 5,
   "metadata": {},
   "outputs": [
    {
     "ename": "AttributeError",
     "evalue": "'Series' object has no attribute 'to_categorical'",
     "output_type": "error",
     "traceback": [
      "\u001b[1;31m---------------------------------------------------------------------------\u001b[0m",
      "\u001b[1;31mAttributeError\u001b[0m                            Traceback (most recent call last)",
      "\u001b[1;32m<ipython-input-5-46e570d09bc2>\u001b[0m in \u001b[0;36m<module>\u001b[1;34m\u001b[0m\n\u001b[1;32m----> 1\u001b[1;33m \u001b[0mtrain_labels\u001b[0m\u001b[1;33m.\u001b[0m\u001b[0mto_categorical\u001b[0m\u001b[1;33m\u001b[0m\u001b[1;33m\u001b[0m\u001b[0m\n\u001b[0m",
      "\u001b[1;32m~\\.conda\\envs\\progLab\\lib\\site-packages\\pandas\\core\\generic.py\u001b[0m in \u001b[0;36m__getattr__\u001b[1;34m(self, name)\u001b[0m\n\u001b[0;32m   5460\u001b[0m             \u001b[1;32mif\u001b[0m \u001b[0mself\u001b[0m\u001b[1;33m.\u001b[0m\u001b[0m_info_axis\u001b[0m\u001b[1;33m.\u001b[0m\u001b[0m_can_hold_identifiers_and_holds_name\u001b[0m\u001b[1;33m(\u001b[0m\u001b[0mname\u001b[0m\u001b[1;33m)\u001b[0m\u001b[1;33m:\u001b[0m\u001b[1;33m\u001b[0m\u001b[1;33m\u001b[0m\u001b[0m\n\u001b[0;32m   5461\u001b[0m                 \u001b[1;32mreturn\u001b[0m \u001b[0mself\u001b[0m\u001b[1;33m[\u001b[0m\u001b[0mname\u001b[0m\u001b[1;33m]\u001b[0m\u001b[1;33m\u001b[0m\u001b[1;33m\u001b[0m\u001b[0m\n\u001b[1;32m-> 5462\u001b[1;33m             \u001b[1;32mreturn\u001b[0m \u001b[0mobject\u001b[0m\u001b[1;33m.\u001b[0m\u001b[0m__getattribute__\u001b[0m\u001b[1;33m(\u001b[0m\u001b[0mself\u001b[0m\u001b[1;33m,\u001b[0m \u001b[0mname\u001b[0m\u001b[1;33m)\u001b[0m\u001b[1;33m\u001b[0m\u001b[1;33m\u001b[0m\u001b[0m\n\u001b[0m\u001b[0;32m   5463\u001b[0m \u001b[1;33m\u001b[0m\u001b[0m\n\u001b[0;32m   5464\u001b[0m     \u001b[1;32mdef\u001b[0m \u001b[0m__setattr__\u001b[0m\u001b[1;33m(\u001b[0m\u001b[0mself\u001b[0m\u001b[1;33m,\u001b[0m \u001b[0mname\u001b[0m\u001b[1;33m:\u001b[0m \u001b[0mstr\u001b[0m\u001b[1;33m,\u001b[0m \u001b[0mvalue\u001b[0m\u001b[1;33m)\u001b[0m \u001b[1;33m->\u001b[0m \u001b[1;32mNone\u001b[0m\u001b[1;33m:\u001b[0m\u001b[1;33m\u001b[0m\u001b[1;33m\u001b[0m\u001b[0m\n",
      "\u001b[1;31mAttributeError\u001b[0m: 'Series' object has no attribute 'to_categorical'"
     ]
    }
   ],
   "source": [
    "train_labels.to_categorical"
   ]
  },
  {
   "cell_type": "code",
   "execution_count": null,
   "metadata": {},
   "outputs": [],
   "source": [
    "#def weighted_loss(y_true, y_predict):\n",
    "#    loss = \n",
    "\n",
    "def train_and_predict(model, training_data, training_labels, testing_data, testing_labels, epochs=5):\n",
    "    \"\"\"\n",
    "    This function trains a given neural network model based on training data and training labels. It then predicts classes on\n",
    "    training and testing data. It is possible to adjust for how many epochs the model is trained\n",
    "    \"\"\"\n",
    "    # metrics to store each epoch:\n",
    "    TP = TruePositives()\n",
    "    FP = FalsePositives()\n",
    "    TN = TrueNegatives()\n",
    "    FN = FalseNegatives()\n",
    "    \n",
    "    # Compile the layers of the model defined earlier. Use the binary cross entropy function as the loss function as we only\n",
    "    # have 2 output classes and use accuracy as the metric\n",
    "    model.compile(loss='binary_crossentropy', metrics=['accuracy', TP, FP, TN, FN])\n",
    "    \n",
    "    # Train the model for a number of epochs\n",
    "    history = model.fit(training_data, training_labels, epochs=epochs, \n",
    "                        validation_data=(testing_data, testing_labels),\n",
    "                        #class_weights={training_labels.unique()[0]: 1., training_labels.unique()[1]: 10.}\n",
    "                       )\n",
    "\n",
    "    # Predict the classes of the training data\n",
    "    predictions_train = model.predict(training_data) >= 0.5\n",
    "    \n",
    "    # Predict the classes on the testing data\n",
    "    predictions_test = model.predict(testing_data) >= 0.5\n",
    "    \n",
    "    # Plot the accuracy over epochs\n",
    "    plt.plot(history.history['accuracy'])\n",
    "    plt.plot(history.history['val_accuracy'])\n",
    "    plt.title('model accuracy')\n",
    "    plt.ylabel('accuracy')\n",
    "    plt.xlabel('epoch')\n",
    "    plt.legend(['train', 'test'], loc='upper left')\n",
    "\n",
    "    plt.show()\n",
    "\n",
    "    return predictions_train, predictions_test, history\n",
    "\n",
    "# Get the amount of input features for the nodes in the first layer\n",
    "input_shape = np.shape(train_data)[1]\n",
    "\n",
    "# Create the model\n",
    "model = models.Sequential()\n",
    "\n",
    "# First layer with input nodes equal to features\n",
    "model.add(Input(shape=(input_shape)))\n",
    "\n",
    "# One hidden layer with 25 nodes\n",
    "model.add(layers.Dense(25, activation='relu'))\n",
    "\n",
    "# Output layer with 1 node (only 1 output class, 0 or 1 for stroke) and sigmoid activation function\n",
    "model.add(layers.Dense(2, 'softmax'))\n",
    "\n",
    "# Train and predict\n",
    "predictions_train, predictions_test, history = train_and_predict(model, train_data, \n",
    "                                                        train_labels, test_data, test_labels,\n",
    "                                                        epochs=30)\n",
    "\n",
    "# Print metrics\n",
    "print('train metrics: \\n')\n",
    "accuracy_train, balanced_accuracy_train = get_metrics(train_labels, predictions_train, verbose=True)\n",
    "\n",
    "print('test metrics: \\n')\n",
    "accuracy_test, balanced_accuracy_test = get_metrics(test_labels, predictions_test, verbose=True)\n",
    "\n"
   ]
  },
  {
   "cell_type": "code",
   "execution_count": null,
   "metadata": {},
   "outputs": [],
   "source": [
    "history.history"
   ]
  },
  {
   "cell_type": "code",
   "execution_count": null,
   "metadata": {},
   "outputs": [],
   "source": [
    "TP = np.array(history.history['true_positives_17'])\n",
    "TN = np.array(history.history['true_negatives_17'])\n",
    "FP = np.array(history.history['false_positives_17'])\n",
    "FN = np.array(history.history['false_negatives_17'])\n",
    "\n",
    "bal_acc = (TP / (TP + FN) + TN / (FP + TN)) / 2\n",
    "\n",
    "plt.plot(bal_acc)\n",
    "plt.title('model balanced accuracy')\n",
    "plt.ylabel('accuracy')\n",
    "plt.xlabel('epoch')\n"
   ]
  }
 ],
 "metadata": {
  "kernelspec": {
   "display_name": "Python 3",
   "language": "python",
   "name": "python3"
  },
  "language_info": {
   "codemirror_mode": {
    "name": "ipython",
    "version": 3
   },
   "file_extension": ".py",
   "mimetype": "text/x-python",
   "name": "python",
   "nbconvert_exporter": "python",
   "pygments_lexer": "ipython3",
   "version": "3.7.9"
  }
 },
 "nbformat": 4,
 "nbformat_minor": 4
}
