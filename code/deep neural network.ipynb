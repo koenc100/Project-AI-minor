{
 "cells": [
  {
   "cell_type": "markdown",
   "metadata": {},
   "source": [
    "# Deep Neural Network"
   ]
  },
  {
   "cell_type": "markdown",
   "metadata": {},
   "source": [
    "#### Data Analysis\n",
    "\n",
    "This section should describe what the actual input is your model starts with, and what type of model is used, including the structure of the model itself (i.e. what layers of what shape, and with which activation function are used in your neural network), and what post-processing steps do you do before making the actual prediction.\n",
    "\n",
    "In this project we try to predict whether people will have a stroke or not.  \n",
    "\n",
    "#### Data Pipeline\n",
    "\n",
    "#### Model Training\n",
    "\n",
    "#### Model evaluation\n"
   ]
  },
  {
   "cell_type": "code",
   "execution_count": 118,
   "metadata": {},
   "outputs": [],
   "source": [
    "# Import\n",
    "from sklearn import tree\n",
    "from sklearn.tree import DecisionTreeClassifier\n",
    "from sklearn import metrics\n",
    "from sklearn.metrics import confusion_matrix, balanced_accuracy_score, accuracy_score\n",
    "\n",
    "from matplotlib.pyplot import figure\n",
    "import numpy as np\n",
    "import pandas as pd\n",
    "import math\n",
    "import statistics\n",
    "import matplotlib.pyplot as plt\n",
    "import seaborn as sn\n",
    "\n",
    "from IPython.display import display\n",
    "from sklearn.model_selection import train_test_split\n",
    "from data_processing import prepare_data, split_data\n",
    "\n",
    "import tensorflow as tf\n",
    "from tensorflow.keras import layers, models, preprocessing, Input"
   ]
  },
  {
   "cell_type": "code",
   "execution_count": 119,
   "metadata": {},
   "outputs": [
    {
     "name": "stdout",
     "output_type": "stream",
     "text": [
      "<class 'pandas.core.frame.DataFrame'>\n",
      "Int64Index: 2945 entries, 2734 to 1800\n",
      "Data columns (total 21 columns):\n",
      " #   Column                  Non-Null Count  Dtype  \n",
      "---  ------                  --------------  -----  \n",
      " 0   age                     2945 non-null   float64\n",
      " 1   hypertension            2945 non-null   int64  \n",
      " 2   heart_disease           2945 non-null   int64  \n",
      " 3   avg_glucose_level       2945 non-null   float64\n",
      " 4   bmi                     2945 non-null   float64\n",
      " 5   female                  2945 non-null   uint8  \n",
      " 6   male                    2945 non-null   uint8  \n",
      " 7   other_gender            2945 non-null   uint8  \n",
      " 8   never_married           2945 non-null   uint8  \n",
      " 9   ever_married            2945 non-null   uint8  \n",
      " 10  govt_job                2945 non-null   uint8  \n",
      " 11  never_worked            2945 non-null   uint8  \n",
      " 12  private                 2945 non-null   uint8  \n",
      " 13  self-employed           2945 non-null   uint8  \n",
      " 14  children                2945 non-null   uint8  \n",
      " 15  rural                   2945 non-null   uint8  \n",
      " 16  urban                   2945 non-null   uint8  \n",
      " 17  unknown_smoking_status  2945 non-null   uint8  \n",
      " 18  formerly_smoked         2945 non-null   uint8  \n",
      " 19  never_smoked            2945 non-null   uint8  \n",
      " 20  smokes                  2945 non-null   uint8  \n",
      "dtypes: float64(3), int64(2), uint8(16)\n",
      "memory usage: 184.1 KB\n",
      "None\n"
     ]
    }
   ],
   "source": [
    "data = prepare_data('healthcare-dataset-stroke-data.csv')\n",
    "# Split the data\n",
    "train_data, test_data, val_data, train_labels, test_labels, val_labels = split_data(data, split_size=(0.6, 0.2, 0.2))\n",
    "\n",
    "# Print info\n",
    "print(train_data.info())"
   ]
  },
  {
   "cell_type": "code",
   "execution_count": 114,
   "metadata": {},
   "outputs": [
    {
     "data": {
      "text/plain": [
       "0"
      ]
     },
     "execution_count": 114,
     "metadata": {},
     "output_type": "execute_result"
    }
   ],
   "source": [
    "train_labels[2734]"
   ]
  },
  {
   "cell_type": "code",
   "execution_count": 129,
   "metadata": {},
   "outputs": [
    {
     "name": "stdout",
     "output_type": "stream",
     "text": [
      "Train on 2945 samples\n",
      "Epoch 1/5\n",
      "2945/2945 [==============================] - 0s 118us/sample - loss: 1.2227 - accuracy: 0.8604\n",
      "Epoch 2/5\n",
      "2945/2945 [==============================] - 0s 26us/sample - loss: 0.3695 - accuracy: 0.9382\n",
      "Epoch 3/5\n",
      "2945/2945 [==============================] - 0s 25us/sample - loss: 0.2300 - accuracy: 0.9514\n",
      "Epoch 4/5\n",
      "2945/2945 [==============================] - 0s 25us/sample - loss: 0.2081 - accuracy: 0.9494\n",
      "Epoch 5/5\n",
      "2945/2945 [==============================] - 0s 28us/sample - loss: 0.2008 - accuracy: 0.9521\n",
      "balanced accuracy validation data: 50.0000 \n",
      "\n",
      "confusion matrix: \n",
      " [[943   0]\n",
      " [ 39   0]]\n",
      "[[\"True Negative\", \"False Positive\"] \n",
      " [\"False Negative\", \"True Positive\"]]\n"
     ]
    }
   ],
   "source": [
    "model = models.Sequential()\n",
    "\n",
    "model.add(Input(shape=(21,)))\n",
    "\n",
    "model.add(layers.Dense(25, activation='relu'))\n",
    "model.add(layers.Dense(2, 'softmax'))\n",
    "\n",
    "model.compile(loss='sparse_categorical_crossentropy', metrics=['accuracy'])\n",
    "\n",
    "model.fit(train_data, train_labels, epochs = 5)\n",
    "predictions_val = model.predict(val_data)\n",
    "predictions_val = np.argmax(predictions_val, axis=1)\n",
    "\n",
    "print(f'balanced accuracy validation data: {balanced_accuracy_score(val_labels, predictions_val)*100:.4f} \\n')\n",
    "\n",
    "print(f'confusion matrix: \\n {confusion_matrix(val_labels, predictions)}')\n",
    "print('[[\"True Negative\", \"False Positive\"] \\n [\"False Negative\", \"True Positive\"]]')\n",
    "\n"
   ]
  }
 ],
 "metadata": {
  "kernelspec": {
   "display_name": "Python 3",
   "language": "python",
   "name": "python3"
  },
  "language_info": {
   "codemirror_mode": {
    "name": "ipython",
    "version": 3
   },
   "file_extension": ".py",
   "mimetype": "text/x-python",
   "name": "python",
   "nbconvert_exporter": "python",
   "pygments_lexer": "ipython3",
   "version": "3.7.9"
  }
 },
 "nbformat": 4,
 "nbformat_minor": 4
}
