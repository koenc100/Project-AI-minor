{
 "cells": [
  {
   "cell_type": "markdown",
   "metadata": {},
   "source": [
    "# Deep Neural Network"
   ]
  },
  {
   "cell_type": "code",
   "execution_count": 40,
   "metadata": {},
   "outputs": [],
   "source": [
    "# Imports\n",
    "import tensorflow as tf\n",
    "from tensorflow.keras import layers, models, preprocessing, Input\n",
    "import numpy as np\n",
    "import pandas as pd\n",
    "import math\n",
    "import statistics\n",
    "import matplotlib.pyplot as plt\n",
    "import seaborn as sn\n",
    "from IPython.display import display\n",
    "from sklearn.model_selection import train_test_split\n"
   ]
  },
  {
   "cell_type": "code",
   "execution_count": 36,
   "metadata": {},
   "outputs": [
    {
     "data": {
      "text/plain": [
       "0.03041327124563446"
      ]
     },
     "execution_count": 36,
     "metadata": {},
     "output_type": "execute_result"
    }
   ],
   "source": [
    "(train_labels.sum() + test_labels.sum()) / (train_labels.shape[0] + train_labels.shape[0])"
   ]
  },
  {
   "cell_type": "code",
   "execution_count": 28,
   "metadata": {},
   "outputs": [
    {
     "data": {
      "text/plain": [
       "0.04276985743380855"
      ]
     },
     "execution_count": 28,
     "metadata": {},
     "output_type": "execute_result"
    }
   ],
   "source": [
    "test_labels.sum() / test_labels.shape[0]\n"
   ]
  },
  {
   "cell_type": "code",
   "execution_count": 41,
   "metadata": {
    "scrolled": true
   },
   "outputs": [
    {
     "name": "stdout",
     "output_type": "stream",
     "text": [
      "shapes:\n",
      "Train data: (3436, 21)\n",
      "Test data: (1473, 21)\n",
      "Train labels: (3436,)\n",
      "Test labels: (1473,)\n",
      "<class 'pandas.core.frame.DataFrame'>\n",
      "Int64Index: 3436 entries, 2535 to 1116\n",
      "Data columns (total 21 columns):\n",
      " #   Column                  Non-Null Count  Dtype  \n",
      "---  ------                  --------------  -----  \n",
      " 0   age                     3436 non-null   float64\n",
      " 1   hypertension            3436 non-null   int64  \n",
      " 2   heart_disease           3436 non-null   int64  \n",
      " 3   avg_glucose_level       3436 non-null   float64\n",
      " 4   bmi                     3436 non-null   float64\n",
      " 5   female                  3436 non-null   uint8  \n",
      " 6   male                    3436 non-null   uint8  \n",
      " 7   other_gender            3436 non-null   uint8  \n",
      " 8   never_married           3436 non-null   uint8  \n",
      " 9   ever_married            3436 non-null   uint8  \n",
      " 10  govt_job                3436 non-null   uint8  \n",
      " 11  never_worked            3436 non-null   uint8  \n",
      " 12  private                 3436 non-null   uint8  \n",
      " 13  self-employed           3436 non-null   uint8  \n",
      " 14  children                3436 non-null   uint8  \n",
      " 15  rural                   3436 non-null   uint8  \n",
      " 16  urban                   3436 non-null   uint8  \n",
      " 17  unknown_smoking_status  3436 non-null   uint8  \n",
      " 18  formerly_smoked         3436 non-null   uint8  \n",
      " 19  never_smoked            3436 non-null   uint8  \n",
      " 20  smokes                  3436 non-null   uint8  \n",
      "dtypes: float64(3), int64(2), uint8(16)\n",
      "memory usage: 214.8 KB\n",
      "None\n"
     ]
    }
   ],
   "source": [
    "# Load data into pandas dataframe\n",
    "data = pd.read_csv('healthcare-dataset-stroke-data.csv')\n",
    "\n",
    "# Create dummies objects\n",
    "gender = pd.get_dummies(data['gender'])\n",
    "ever_married = pd.get_dummies(data['ever_married'])\n",
    "work_type = pd.get_dummies(data['work_type'])\n",
    "residence_type = pd.get_dummies(data['Residence_type'])\n",
    "smoking_status = pd.get_dummies(data['smoking_status'])\n",
    "\n",
    "# Drop old and not usefull columns\n",
    "data = data.drop(['gender', 'ever_married', 'work_type', 'Residence_type', 'smoking_status', 'id'], axis=1)\n",
    "\n",
    "# Create new dataframe\n",
    "data = pd.concat([data, gender, ever_married, work_type, residence_type, smoking_status], axis=1)\n",
    "\n",
    "# Rename column names\n",
    "data = data.rename(columns={'Yes':'ever_married', 'No':'never_married', 'Unknown':'unknown_smoking_status', 'Other':'other_gender'})\n",
    "\n",
    "# Clean column names\n",
    "data.columns = data.columns.str.lower().str.replace(' ','_')\n",
    "\n",
    "# Remove rows with N\\A values\n",
    "data.dropna(axis=0, inplace=True)\n",
    "\n",
    "\n",
    "# Split the data into target \"y\" and input \"X\"\n",
    "y = data['stroke']\n",
    "X = data.drop('stroke', axis=1)\n",
    "\n",
    "#Split the data into 70% training and 30% testing\n",
    "train_data, test_data, train_labels, test_labels = train_test_split(X, y, train_size=0.7, random_state=1265599650)\n",
    "\n",
    "# print shapes\n",
    "print(f'shapes:\\nTrain data: {train_data.shape}\\nTest data: {test_data.shape}\\nTrain labels: {train_labels.shape}\\nTest labels: {test_labels.shape}')\n",
    "\n",
    "print(train_data.info())\n"
   ]
  },
  {
   "cell_type": "code",
   "execution_count": 60,
   "metadata": {},
   "outputs": [
    {
     "name": "stdout",
     "output_type": "stream",
     "text": [
      "Train on 3436 samples\n",
      "3436/3436 [==============================] - 0s 118us/sample - loss: 0.5609 - accuracy: 0.9447\n",
      "[0 0 0 ... 0 0 0]\n"
     ]
    }
   ],
   "source": [
    "model = models.Sequential()\n",
    "\n",
    "model.add(Input(shape=(21,)))\n",
    "\n",
    "model.add(layers.Dense(21, activation='relu'))\n",
    "model.add(layers.Dense(2, activation='softmax'))\n",
    "\n",
    "model.compile(loss='sparse_categorical_crossentropy', metrics=['accuracy'])\n",
    "\n",
    "model.fit(train_data, train_labels)\n",
    "predictions = model.predict(test_data)\n",
    "predictions = np.argmax(predictions, axis=1)"
   ]
  },
  {
   "cell_type": "code",
   "execution_count": 61,
   "metadata": {},
   "outputs": [
    {
     "data": {
      "text/plain": [
       "array([[1400,   10],\n",
       "       [  62,    1]], dtype=int64)"
      ]
     },
     "execution_count": 61,
     "metadata": {},
     "output_type": "execute_result"
    }
   ],
   "source": [
    "\n",
    "from sklearn.metrics import confusion_matrix\n",
    "confusion_matrix(test_labels, predictions)"
   ]
  }
 ],
 "metadata": {
  "kernelspec": {
   "display_name": "Python 3",
   "language": "python",
   "name": "python3"
  },
  "language_info": {
   "codemirror_mode": {
    "name": "ipython",
    "version": 3
   },
   "file_extension": ".py",
   "mimetype": "text/x-python",
   "name": "python",
   "nbconvert_exporter": "python",
   "pygments_lexer": "ipython3",
   "version": "3.7.9"
  }
 },
 "nbformat": 4,
 "nbformat_minor": 4
}
