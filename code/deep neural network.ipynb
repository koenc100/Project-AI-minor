{
 "cells": [
  {
   "cell_type": "markdown",
   "metadata": {},
   "source": [
    "# Deep Neural Network"
   ]
  },
  {
   "cell_type": "code",
   "execution_count": 27,
   "metadata": {},
   "outputs": [],
   "source": [
    "# Import modules\n",
    "import numpy as np\n",
    "import pandas as pd\n",
    "import matplotlib.pyplot as plt\n",
    "from matplotlib.pyplot import figure\n",
    "\n",
    "from IPython.display import display\n",
    "\n",
    "from data_processing import prepare_data, split_data\n",
    "from helper_functions import get_metrics\n",
    "\n",
    "import tensorflow as tf\n",
    "from tensorflow.keras import layers, models, preprocessing, Input, metrics\n",
    "from tensorflow.keras.metrics import FalsePositives, TruePositives, FalseNegatives, TrueNegatives"
   ]
  },
  {
   "cell_type": "code",
   "execution_count": 2,
   "metadata": {},
   "outputs": [],
   "source": [
    "# Get the data and clean it\n",
    "data = prepare_data('healthcare-dataset-stroke-data.csv')\n",
    "\n",
    "# Split the data into test, training and validation data\n",
    "train_data, test_data, val_data, train_labels, test_labels, val_labels = split_data(data, split_size=(0.6, 0.2, 0.2))"
   ]
  },
  {
   "cell_type": "markdown",
   "metadata": {},
   "source": [
    "### Milestone 1: Basic model"
   ]
  },
  {
   "cell_type": "code",
   "execution_count": 4,
   "metadata": {},
   "outputs": [
    {
     "name": "stdout",
     "output_type": "stream",
     "text": [
      "Train on 2944 samples, validate on 982 samples\n",
      "Epoch 1/30\n",
      "2944/2944 [==============================] - 1s 183us/sample - loss: 14.6367 - accuracy: 0.3139 - val_loss: 0.5357 - val_accuracy: 0.9104\n",
      "Epoch 2/30\n",
      "2944/2944 [==============================] - 0s 35us/sample - loss: 0.2904 - accuracy: 0.9460 - val_loss: 0.2904 - val_accuracy: 0.9267\n",
      "Epoch 3/30\n",
      "2944/2944 [==============================] - 0s 34us/sample - loss: 0.1859 - accuracy: 0.9572 - val_loss: 0.2884 - val_accuracy: 0.9033\n",
      "Epoch 4/30\n",
      "2944/2944 [==============================] - 0s 35us/sample - loss: 0.1775 - accuracy: 0.9558 - val_loss: 0.1991 - val_accuracy: 0.9481\n",
      "Epoch 5/30\n",
      "2944/2944 [==============================] - 0s 36us/sample - loss: 0.1739 - accuracy: 0.9558 - val_loss: 0.2218 - val_accuracy: 0.9481\n",
      "Epoch 6/30\n",
      "2944/2944 [==============================] - 0s 36us/sample - loss: 0.1695 - accuracy: 0.9558 - val_loss: 0.1981 - val_accuracy: 0.9481\n",
      "Epoch 7/30\n",
      "2944/2944 [==============================] - 0s 35us/sample - loss: 0.1656 - accuracy: 0.9558 - val_loss: 0.2056 - val_accuracy: 0.9481\n",
      "Epoch 8/30\n",
      "2944/2944 [==============================] - 0s 34us/sample - loss: 0.1680 - accuracy: 0.9555 - val_loss: 0.2136 - val_accuracy: 0.9481\n",
      "Epoch 9/30\n",
      "2944/2944 [==============================] - 0s 36us/sample - loss: 0.1663 - accuracy: 0.9545 - val_loss: 0.2164 - val_accuracy: 0.9481\n",
      "Epoch 10/30\n",
      "2944/2944 [==============================] - 0s 35us/sample - loss: 0.1646 - accuracy: 0.9552 - val_loss: 0.2082 - val_accuracy: 0.9481\n",
      "Epoch 11/30\n",
      "2944/2944 [==============================] - 0s 33us/sample - loss: 0.1663 - accuracy: 0.9552 - val_loss: 0.2359 - val_accuracy: 0.9145\n",
      "Epoch 12/30\n",
      "2944/2944 [==============================] - 0s 32us/sample - loss: 0.1665 - accuracy: 0.9541 - val_loss: 0.1888 - val_accuracy: 0.9481\n",
      "Epoch 13/30\n",
      "2944/2944 [==============================] - 0s 31us/sample - loss: 0.1619 - accuracy: 0.9552 - val_loss: 0.2187 - val_accuracy: 0.9481\n",
      "Epoch 14/30\n",
      "2944/2944 [==============================] - 0s 32us/sample - loss: 0.1654 - accuracy: 0.9569 - val_loss: 0.1965 - val_accuracy: 0.9481\n",
      "Epoch 15/30\n",
      "2944/2944 [==============================] - 0s 34us/sample - loss: 0.1614 - accuracy: 0.9558 - val_loss: 0.1878 - val_accuracy: 0.9481\n",
      "Epoch 16/30\n",
      "2944/2944 [==============================] - 0s 33us/sample - loss: 0.1631 - accuracy: 0.9562 - val_loss: 0.1877 - val_accuracy: 0.9481\n",
      "Epoch 17/30\n",
      "2944/2944 [==============================] - 0s 34us/sample - loss: 0.1613 - accuracy: 0.9569 - val_loss: 0.1879 - val_accuracy: 0.9481\n",
      "Epoch 18/30\n",
      "2944/2944 [==============================] - 0s 33us/sample - loss: 0.1634 - accuracy: 0.9555 - val_loss: 0.2204 - val_accuracy: 0.9481\n",
      "Epoch 19/30\n",
      "2944/2944 [==============================] - 0s 32us/sample - loss: 0.1607 - accuracy: 0.9562 - val_loss: 0.2055 - val_accuracy: 0.9481\n",
      "Epoch 20/30\n",
      "2944/2944 [==============================] - 0s 33us/sample - loss: 0.1593 - accuracy: 0.9558 - val_loss: 0.1938 - val_accuracy: 0.9481\n",
      "Epoch 21/30\n",
      "2944/2944 [==============================] - 0s 33us/sample - loss: 0.1650 - accuracy: 0.9552 - val_loss: 0.1871 - val_accuracy: 0.9481\n",
      "Epoch 22/30\n",
      "2944/2944 [==============================] - 0s 34us/sample - loss: 0.1608 - accuracy: 0.9552 - val_loss: 0.2045 - val_accuracy: 0.9328\n",
      "Epoch 23/30\n",
      "2944/2944 [==============================] - 0s 33us/sample - loss: 0.1587 - accuracy: 0.9565 - val_loss: 0.1857 - val_accuracy: 0.9481\n",
      "Epoch 24/30\n",
      "2944/2944 [==============================] - 0s 32us/sample - loss: 0.1582 - accuracy: 0.9569 - val_loss: 0.1859 - val_accuracy: 0.9481\n",
      "Epoch 25/30\n",
      "2944/2944 [==============================] - 0s 35us/sample - loss: 0.1580 - accuracy: 0.9575 - val_loss: 0.2030 - val_accuracy: 0.9481\n",
      "Epoch 26/30\n",
      "2944/2944 [==============================] - 0s 33us/sample - loss: 0.1558 - accuracy: 0.9562 - val_loss: 0.1859 - val_accuracy: 0.9481\n",
      "Epoch 27/30\n",
      "2944/2944 [==============================] - 0s 32us/sample - loss: 0.1546 - accuracy: 0.9569 - val_loss: 0.2119 - val_accuracy: 0.9196\n",
      "Epoch 28/30\n",
      "2944/2944 [==============================] - 0s 33us/sample - loss: 0.1611 - accuracy: 0.9548 - val_loss: 0.1902 - val_accuracy: 0.9430\n",
      "Epoch 29/30\n",
      "2944/2944 [==============================] - 0s 33us/sample - loss: 0.1592 - accuracy: 0.9552 - val_loss: 0.1847 - val_accuracy: 0.9481\n",
      "Epoch 30/30\n",
      "2944/2944 [==============================] - 0s 32us/sample - loss: 0.1580 - accuracy: 0.9545 - val_loss: 0.2235 - val_accuracy: 0.9481\n"
     ]
    },
    {
     "data": {
      "image/png": "[encoded data removed]",
      "text/plain": [
       "<Figure size 432x288 with 1 Axes>"
      ]
     },
     "metadata": {
      "needs_background": "light"
     },
     "output_type": "display_data"
    },
    {
     "name": "stdout",
     "output_type": "stream",
     "text": [
      "train metrics: \n",
      "\n",
      "accuracy: 95.8560 % \n",
      "\n",
      "balanced accuracy: 50.0000 % \n",
      "\n",
      "confusion matrix: \n",
      "[[2822    0]\n",
      " [ 122    0]] \n",
      "\n",
      "[[\"True Negative\", \"False Positive\"] \n",
      " [\"False Negative\", \"True Positive\"]] \n",
      "\n",
      "test metrics: \n",
      "\n",
      "accuracy: 94.8065 % \n",
      "\n",
      "balanced accuracy: 50.0000 % \n",
      "\n",
      "confusion matrix: \n",
      "[[931   0]\n",
      " [ 51   0]] \n",
      "\n",
      "[[\"True Negative\", \"False Positive\"] \n",
      " [\"False Negative\", \"True Positive\"]] \n",
      "\n"
     ]
    }
   ],
   "source": [
    "def train_and_predict(model, training_data, training_labels, testing_data, testing_labels, epochs=5):\n",
    "    \"\"\"\n",
    "    This function trains a given neural network model based on training data and training labels. It then predicts classes on\n",
    "    training and testing data. It is possible to adjust for how many epochs the model is trained\n",
    "    \"\"\"\n",
    "    # Compile the layers of the model defined earlier. Use the binary cross entropy function as the loss function as we only\n",
    "    # have 2 output classes and use accuracy as the metric\n",
    "    model.compile(loss='binary_crossentropy', metrics=['accuracy'])\n",
    "    \n",
    "    # Train the model for a number of epochs\n",
    "    history = model.fit(training_data, training_labels, epochs=epochs, validation_data=(testing_data, testing_labels))\n",
    "\n",
    "    # Predict the classes of the training data\n",
    "    predictions_train = model.predict(training_data) >= 0.5\n",
    "    \n",
    "    # Predict the classes on the testing data\n",
    "    predictions_test = model.predict(testing_data) >= 0.5\n",
    "    \n",
    "    # Plot the accuracy over epochs\n",
    "    plt.plot(history.history['accuracy'])\n",
    "    plt.plot(history.history['val_accuracy'])\n",
    "    plt.title('model accuracy')\n",
    "    plt.ylabel('accuracy')\n",
    "    plt.xlabel('epoch')\n",
    "    plt.legend(['train', 'test'], loc='upper left')\n",
    "\n",
    "    plt.show()\n",
    "\n",
    "    return predictions_train, predictions_test\n",
    "\n",
    "# Get the amount of input features for the nodes in the first layer\n",
    "input_shape = np.shape(train_data)[1]\n",
    "\n",
    "# Create the model\n",
    "model = models.Sequential()\n",
    "\n",
    "# First layer with input nodes equal to features\n",
    "model.add(Input(shape=(input_shape)))\n",
    "\n",
    "# One hidden layer with 25 nodes\n",
    "model.add(layers.Dense(25, activation='relu'))\n",
    "\n",
    "# Output layer with 1 node (only 1 output class, 0 or 1 for stroke) and sigmoid activation function\n",
    "model.add(layers.Dense(1, 'sigmoid'))\n",
    "\n",
    "# Train and predict\n",
    "predictions_train, predictions_test = train_and_predict(model, train_data, \n",
    "                                                        train_labels, test_data, test_labels,\n",
    "                                                        epochs=30)\n",
    "\n",
    "# Print metrics\n",
    "print('train metrics: \\n')\n",
    "accuracy_train, balanced_accuracy_train = get_metrics(train_labels, predictions_train, verbose=True)\n",
    "\n",
    "print('test metrics: \\n')\n",
    "accuracy_test, balanced_accuracy_test = get_metrics(test_labels, predictions_test, verbose=True)\n",
    "\n"
   ]
  },
  {
   "cell_type": "markdown",
   "metadata": {},
   "source": [
    "### Milestone 2: Actual model\n",
    "##### Additions:\n",
    "1. Weighted loss to increase sensitivity to stroke cases."
   ]
  },
  {
   "cell_type": "code",
   "execution_count": 34,
   "metadata": {},
   "outputs": [
    {
     "ename": "TypeError",
     "evalue": "Unrecognized keyword arguments: {'class_weights': {'0': 1, '1': 5}}",
     "output_type": "error",
     "traceback": [
      "\u001b[1;31m---------------------------------------------------------------------------\u001b[0m",
      "\u001b[1;31mTypeError\u001b[0m                                 Traceback (most recent call last)",
      "\u001b[1;32m<ipython-input-34-55f29b4d9591>\u001b[0m in \u001b[0;36m<module>\u001b[1;34m\u001b[0m\n\u001b[0;32m     56\u001b[0m predictions_train, predictions_test, history = train_and_predict(model, train_data, \n\u001b[0;32m     57\u001b[0m                                                         \u001b[0mtrain_labels\u001b[0m\u001b[1;33m,\u001b[0m \u001b[0mtest_data\u001b[0m\u001b[1;33m,\u001b[0m \u001b[0mtest_labels\u001b[0m\u001b[1;33m,\u001b[0m\u001b[1;33m\u001b[0m\u001b[1;33m\u001b[0m\u001b[0m\n\u001b[1;32m---> 58\u001b[1;33m                                                         epochs=30)\n\u001b[0m\u001b[0;32m     59\u001b[0m \u001b[1;33m\u001b[0m\u001b[0m\n\u001b[0;32m     60\u001b[0m \u001b[1;31m# Print metrics\u001b[0m\u001b[1;33m\u001b[0m\u001b[1;33m\u001b[0m\u001b[1;33m\u001b[0m\u001b[0m\n",
      "\u001b[1;32m<ipython-input-34-55f29b4d9591>\u001b[0m in \u001b[0;36mtrain_and_predict\u001b[1;34m(model, training_data, training_labels, testing_data, testing_labels, epochs)\u001b[0m\n\u001b[0;32m     17\u001b[0m     history = model.fit(training_data, training_labels, epochs=epochs, \n\u001b[0;32m     18\u001b[0m                         \u001b[0mvalidation_data\u001b[0m\u001b[1;33m=\u001b[0m\u001b[1;33m(\u001b[0m\u001b[0mtesting_data\u001b[0m\u001b[1;33m,\u001b[0m \u001b[0mtesting_labels\u001b[0m\u001b[1;33m)\u001b[0m\u001b[1;33m,\u001b[0m\u001b[1;33m\u001b[0m\u001b[1;33m\u001b[0m\u001b[0m\n\u001b[1;32m---> 19\u001b[1;33m                         \u001b[0mclass_weights\u001b[0m\u001b[1;33m=\u001b[0m\u001b[1;33m{\u001b[0m\u001b[1;34m'0'\u001b[0m\u001b[1;33m:\u001b[0m \u001b[1;36m1\u001b[0m\u001b[1;33m,\u001b[0m \u001b[1;34m'1'\u001b[0m\u001b[1;33m:\u001b[0m \u001b[1;36m5\u001b[0m\u001b[1;33m}\u001b[0m\u001b[1;33m\u001b[0m\u001b[1;33m\u001b[0m\u001b[0m\n\u001b[0m\u001b[0;32m     20\u001b[0m                        )\n\u001b[0;32m     21\u001b[0m \u001b[1;33m\u001b[0m\u001b[0m\n",
      "\u001b[1;32m~\\.conda\\envs\\progLab\\lib\\site-packages\\tensorflow_core\\python\\keras\\engine\\training.py\u001b[0m in \u001b[0;36mfit\u001b[1;34m(self, x, y, batch_size, epochs, verbose, callbacks, validation_split, validation_data, shuffle, class_weight, sample_weight, initial_epoch, steps_per_epoch, validation_steps, validation_freq, max_queue_size, workers, use_multiprocessing, **kwargs)\u001b[0m\n\u001b[0;32m    793\u001b[0m       \u001b[0mepochs\u001b[0m \u001b[1;33m=\u001b[0m \u001b[0mkwargs\u001b[0m\u001b[1;33m.\u001b[0m\u001b[0mpop\u001b[0m\u001b[1;33m(\u001b[0m\u001b[1;34m'nb_epoch'\u001b[0m\u001b[1;33m)\u001b[0m\u001b[1;33m\u001b[0m\u001b[1;33m\u001b[0m\u001b[0m\n\u001b[0;32m    794\u001b[0m     \u001b[1;32mif\u001b[0m \u001b[0mkwargs\u001b[0m\u001b[1;33m:\u001b[0m\u001b[1;33m\u001b[0m\u001b[1;33m\u001b[0m\u001b[0m\n\u001b[1;32m--> 795\u001b[1;33m       \u001b[1;32mraise\u001b[0m \u001b[0mTypeError\u001b[0m\u001b[1;33m(\u001b[0m\u001b[1;34m'Unrecognized keyword arguments: '\u001b[0m \u001b[1;33m+\u001b[0m \u001b[0mstr\u001b[0m\u001b[1;33m(\u001b[0m\u001b[0mkwargs\u001b[0m\u001b[1;33m)\u001b[0m\u001b[1;33m)\u001b[0m\u001b[1;33m\u001b[0m\u001b[1;33m\u001b[0m\u001b[0m\n\u001b[0m\u001b[0;32m    796\u001b[0m     \u001b[0mself\u001b[0m\u001b[1;33m.\u001b[0m\u001b[0m_assert_compile_was_called\u001b[0m\u001b[1;33m(\u001b[0m\u001b[1;33m)\u001b[0m\u001b[1;33m\u001b[0m\u001b[1;33m\u001b[0m\u001b[0m\n\u001b[0;32m    797\u001b[0m     \u001b[0mself\u001b[0m\u001b[1;33m.\u001b[0m\u001b[0m_check_call_args\u001b[0m\u001b[1;33m(\u001b[0m\u001b[1;34m'fit'\u001b[0m\u001b[1;33m)\u001b[0m\u001b[1;33m\u001b[0m\u001b[1;33m\u001b[0m\u001b[0m\n",
      "\u001b[1;31mTypeError\u001b[0m: Unrecognized keyword arguments: {'class_weights': {'0': 1, '1': 5}}"
     ]
    }
   ],
   "source": [
    "def train_and_predict(model, training_data, training_labels, testing_data, testing_labels, epochs=5):\n",
    "    \"\"\"\n",
    "    This function trains a given neural network model based on training data and training labels. It then predicts classes on\n",
    "    training and testing data. It is possible to adjust for how many epochs the model is trained\n",
    "    \"\"\"\n",
    "    # metrics to store each epoch:\n",
    "    TP = TruePositives()\n",
    "    FP = FalsePositives()\n",
    "    TN = TrueNegatives()\n",
    "    FN = FalseNegatives()\n",
    "    \n",
    "    # Compile the layers of the model defined earlier. Use the binary cross entropy function as the loss function as we only\n",
    "    # have 2 output classes and use accuracy as the metric\n",
    "    model.compile(loss='binary_crossentropy', metrics=['accuracy', TP, FP, TN, FN])\n",
    "    \n",
    "    # Train the model for a number of epochs\n",
    "    history = model.fit(training_data, training_labels, epochs=epochs, \n",
    "                        validation_data=(testing_data, testing_labels),\n",
    "                        class_weights=\n",
    "                       )\n",
    "\n",
    "    # Predict the classes of the training data\n",
    "    predictions_train = model.predict(training_data) >= 0.5\n",
    "    \n",
    "    # Predict the classes on the testing data\n",
    "    predictions_test = model.predict(testing_data) >= 0.5\n",
    "    \n",
    "    # Plot the accuracy over epochs\n",
    "    plt.plot(history.history['accuracy'])\n",
    "    plt.plot(history.history['val_accuracy'])\n",
    "    plt.title('model accuracy')\n",
    "    plt.ylabel('accuracy')\n",
    "    plt.xlabel('epoch')\n",
    "    plt.legend(['train', 'test'], loc='upper left')\n",
    "\n",
    "    plt.show()\n",
    "\n",
    "    return predictions_train, predictions_test, history\n",
    "\n",
    "# Get the amount of input features for the nodes in the first layer\n",
    "input_shape = np.shape(train_data)[1]\n",
    "\n",
    "# Create the model\n",
    "model = models.Sequential()\n",
    "\n",
    "# First layer with input nodes equal to features\n",
    "model.add(Input(shape=(input_shape)))\n",
    "\n",
    "# One hidden layer with 25 nodes\n",
    "model.add(layers.Dense(25, activation='relu'))\n",
    "\n",
    "# Output layer with 1 node (only 1 output class, 0 or 1 for stroke) and sigmoid activation function\n",
    "model.add(layers.Dense(1, 'sigmoid'))\n",
    "\n",
    "# Train and predict\n",
    "predictions_train, predictions_test, history = train_and_predict(model, train_data, \n",
    "                                                        train_labels, test_data, test_labels,\n",
    "                                                        epochs=30)\n",
    "\n",
    "# Print metrics\n",
    "print('train metrics: \\n')\n",
    "accuracy_train, balanced_accuracy_train = get_metrics(train_labels, predictions_train, verbose=True)\n",
    "\n",
    "print('test metrics: \\n')\n",
    "accuracy_test, balanced_accuracy_test = get_metrics(test_labels, predictions_test, verbose=True)\n",
    "\n"
   ]
  },
  {
   "cell_type": "code",
   "execution_count": 25,
   "metadata": {},
   "outputs": [
    {
     "data": {
      "text/plain": [
       "array([0.49964565, 0.50356686, 0.4982282 , 0.5196059 , 0.49875975,\n",
       "       0.5101689 , 0.4984054 , 0.49929127, 0.50607055, 0.51052326,\n",
       "       0.5028581 , 0.50999177, 0.50695646, 0.50232655, 0.50607055,\n",
       "       0.5012635 , 0.50695646, 0.50179505, 0.5066021 , 0.4984054 ,\n",
       "       0.507488  , 0.50713366, 0.51052326, 0.5030353 , 0.5158619 ,\n",
       "       0.5147988 , 0.5066021 , 0.49929127, 0.50232655, 0.5197831 ],\n",
       "      dtype=float32)"
      ]
     },
     "execution_count": 25,
     "metadata": {},
     "output_type": "execute_result"
    }
   ],
   "source": [
    "TP = np.array(history.history['true_positives_1'])\n",
    "TN = np.array(history.history['true_negatives_1'])\n",
    "FP = np.array(history.history['false_positives_1'])\n",
    "FN = np.array(history.history['false_negatives_1'])\n",
    "\n",
    "bal_acc = (TP / (TP + FN) + TN / (FP + TN)) / 2\n",
    "bal_acc\n"
   ]
  }
 ],
 "metadata": {
  "kernelspec": {
   "display_name": "Python 3",
   "language": "python",
   "name": "python3"
  },
  "language_info": {
   "codemirror_mode": {
    "name": "ipython",
    "version": 3
   },
   "file_extension": ".py",
   "mimetype": "text/x-python",
   "name": "python",
   "nbconvert_exporter": "python",
   "pygments_lexer": "ipython3",
   "version": "3.7.10"
  }
 },
 "nbformat": 4,
 "nbformat_minor": 4
}
